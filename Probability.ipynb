{
 "cells": [
  {
   "cell_type": "code",
   "execution_count": 12,
   "metadata": {},
   "outputs": [],
   "source": [
    "from scipy import special\n",
    "from math import factorial"
   ]
  },
  {
   "cell_type": "markdown",
   "metadata": {},
   "source": [
    "# Block 1. Bernoulli formula. / Блок 1. Формула Бернулли."
   ]
  },
  {
   "cell_type": "markdown",
   "metadata": {},
   "source": [
    "### binomial coefficient / биномиальный коэффициент\n",
    "special.comb(n, k)"
   ]
  },
  {
   "cell_type": "markdown",
   "metadata": {},
   "source": [
    "### alternate version / альтернативный вариант\n",
    "def num_of_successes(n, k):\n",
    "    return factorial(n)/(factorial(k) * factorial(n - k))"
   ]
  },
  {
   "cell_type": "code",
   "execution_count": 14,
   "metadata": {},
   "outputs": [],
   "source": [
    "# the function that defines the Bernoulli formula\n",
    "def bernulli (n, k, p, q):\n",
    "    return special.comb(n, k)*(p**k)*(q**(n-k))"
   ]
  },
  {
   "cell_type": "markdown",
   "metadata": {},
   "source": [
    "### Task 1 / Задание 1\n",
    "\n",
    "There are 7 TVs in the teleshop. For each TV set, the probability that it is currently on is 0.5. Find a probability that at least three TVs are on at the moment. Round the answer to 1,000. Use a point as a decimal separator.\n",
    "\n",
    "/\n",
    "\n",
    "В телеателье имеется 7 телевизоров. Для каждого телевизора вероятность того, что в данный момент он включен, равна 0,5. Найти вероятность того, что в данный момент включены не менее трех телевизоров. Ответ округлите до тысячных. В качестве десятичного разделителя используйте точку."
   ]
  },
  {
   "cell_type": "code",
   "execution_count": 28,
   "metadata": {},
   "outputs": [],
   "source": [
    "n = 7\n",
    "k = 3\n",
    "p = 0.5\n",
    "q = 1-p"
   ]
  },
  {
   "cell_type": "code",
   "execution_count": 29,
   "metadata": {},
   "outputs": [
    {
     "data": {
      "text/plain": [
       "[3, 4, 5, 6, 7]"
      ]
     },
     "execution_count": 29,
     "metadata": {},
     "output_type": "execute_result"
    }
   ],
   "source": [
    "lst = [x + k for x in range(n-k+1)]\n",
    "lst"
   ]
  },
  {
   "cell_type": "code",
   "execution_count": 30,
   "metadata": {},
   "outputs": [
    {
     "data": {
      "text/plain": [
       "0.773"
      ]
     },
     "execution_count": 30,
     "metadata": {},
     "output_type": "execute_result"
    }
   ],
   "source": [
    "a=0\n",
    "for i in lst:\n",
    "    b = bernulli(n, i, p, q)\n",
    "    a = a + b\n",
    "a.round(3)"
   ]
  },
  {
   "cell_type": "markdown",
   "metadata": {},
   "source": [
    "### Task 2 / Задание 2\n",
    "\n",
    "Let the probability that a buyer needs a computer with a Linux operating system be 0.25. Find a probability that at least two of the six buyers need a Linux operating system. Round the answer to 100s, use the dot as divider. \n",
    "\n",
    "/\n",
    "\n",
    "Пусть вероятность того, что покупателю необходим компьютер с операционной системой Linux, равна 0.25. Найдите вероятность того, что из шести покупателей по крайней мере двум необходим компьютер с операционной системой Linux.\n",
    "Ответ округлите до сотых, в качестве разделителя используйте точку."
   ]
  },
  {
   "cell_type": "code",
   "execution_count": 20,
   "metadata": {},
   "outputs": [
    {
     "data": {
      "text/plain": [
       "0.47"
      ]
     },
     "execution_count": 20,
     "metadata": {},
     "output_type": "execute_result"
    }
   ],
   "source": [
    "n = 6\n",
    "k = 2\n",
    "p = 0.25\n",
    "q = 1-p\n",
    "lst = [x + k for x in range(n-k)]\n",
    "def bernulli (n, k, p, q):\n",
    "    return special.comb(n, k)*(p**k)*(q**(n-k))\n",
    "a=0\n",
    "for i in lst:\n",
    "    b = bernulli(n, i, p, q)\n",
    "    a = a + b\n",
    "a.round(2)"
   ]
  },
  {
   "cell_type": "markdown",
   "metadata": {},
   "source": [
    "### Task 3 / Задание 3\n",
    "\n",
    "The urn has 20 balls: 15 white and 5 black. Five consecutive balls were taken out, with each ball returned to the urn and thoroughly mixed before extracting the next ball in the urn. Find the odds of five balloons being pulled out and two white balloons.\n",
    "\n",
    "The answer is rounded to thousandth, use a point as a decimal separator.\n",
    "\n",
    "/\n",
    "\n",
    "В урне 20 шаров: 15 белых и 5 чёрных. Вынули подряд 5 шаров, причём каждый вынутый шар возвращается в урну и перед извлечением следующего шары в урне тщательно перемешиваются. Найдите вероятность того, что из пяти вынутых шаров будет 2 белых.\n",
    "\n",
    "Ответ округлите до тысячных, в качестве десятичного разделителя используйте точку."
   ]
  },
  {
   "cell_type": "code",
   "execution_count": 22,
   "metadata": {},
   "outputs": [],
   "source": [
    "n = 5\n",
    "k = 2\n",
    "p = 15/20\n",
    "q = 1-p"
   ]
  },
  {
   "cell_type": "code",
   "execution_count": 23,
   "metadata": {},
   "outputs": [
    {
     "data": {
      "text/plain": [
       "0.088"
      ]
     },
     "execution_count": 23,
     "metadata": {},
     "output_type": "execute_result"
    }
   ],
   "source": [
    "bernulli(n, k, p, q).round(3)"
   ]
  },
  {
   "cell_type": "markdown",
   "metadata": {},
   "source": [
    "### Task 4 / Задание 4\n",
    "\n",
    "There are 1,730 people in a very large chat room on the analyst’s date. The probability that a chat member’s birthday at random falls on a certain day of the year is 1/365 for each of 365 days. Find the most likely number of lucky people who were born on March 1st.\n",
    "\n",
    "/\n",
    "\n",
    "В очень большом чате по дата аналитике сидит 1730 человек. Вероятность того, что день рождения наугад взятого участника чата приходится на определенный день года, равна 1/365 для каждого из 365 дней. Найдем наиболее вероятное число счастливчиков, которые родились 1 марта."
   ]
  },
  {
   "cell_type": "code",
   "execution_count": 31,
   "metadata": {},
   "outputs": [],
   "source": [
    "n = 1730\n",
    "p = 1/365\n",
    "q = 364/365"
   ]
  },
  {
   "cell_type": "code",
   "execution_count": 39,
   "metadata": {},
   "outputs": [
    {
     "data": {
      "text/plain": [
       "3.742465753424658"
      ]
     },
     "execution_count": 39,
     "metadata": {},
     "output_type": "execute_result"
    }
   ],
   "source": [
    "minimum_limit = n*p-q\n",
    "minimum_limit"
   ]
  },
  {
   "cell_type": "code",
   "execution_count": 40,
   "metadata": {},
   "outputs": [
    {
     "data": {
      "text/plain": [
       "4.742465753424658"
      ]
     },
     "execution_count": 40,
     "metadata": {},
     "output_type": "execute_result"
    }
   ],
   "source": [
    "maximum_limit = n*p+p\n",
    "maximum_limit"
   ]
  },
  {
   "cell_type": "markdown",
   "metadata": {},
   "source": [
    "Integer value between minimum_limit AND maximum_limit = 4. \n",
    "\n",
    "So, number of lucky people who were born on March 1st - 4.\n",
    "\n",
    "/\n",
    "\n",
    "Целое значение между минимумом И максимумом И пределом = 4. \n",
    "\n",
    "Итак, число счастливчиков, родившихся 1-го марта - 4."
   ]
  },
  {
   "cell_type": "code",
   "execution_count": null,
   "metadata": {},
   "outputs": [],
   "source": []
  },
  {
   "cell_type": "markdown",
   "metadata": {},
   "source": [
    "# Block 2. Bayes formula / Блок 2. Формула Байеса."
   ]
  },
  {
   "cell_type": "markdown",
   "metadata": {},
   "source": [
    "### Task 1 / Задание 1\n",
    "\n",
    "Of the 500 computers, 180 belong to one party, 170 to the second and the rest to the third. In the first instalment, 3 per cent of the marriage was in the second instalment, 2 per cent and 6 per cent. One computer is randomly selected. Determine the probability that the selected computer is defective.  Round up the received answer to 10,000. Use a dot as the separator.\n",
    "\n",
    "/\n",
    "\n",
    "Из 500 компьютеров  180 принадлежат к 1 партии, 170 – ко второй партии, остальные к третьей. В первой партии 3% брака, во второй — 2%, в третьей – 6%. Случайно выбирается один компьютер. Определить вероятность того, что выбранный компьютер – бракованный.  Округлите полученный ответ до десятитысячных. В качестве разделителя используйте точку."
   ]
  },
  {
   "cell_type": "code",
   "execution_count": 2,
   "metadata": {},
   "outputs": [],
   "source": [
    "a = 500\n",
    "b = 180\n",
    "c = 170\n",
    "d = a-b-c"
   ]
  },
  {
   "cell_type": "code",
   "execution_count": 3,
   "metadata": {},
   "outputs": [],
   "source": [
    "x_b = 0.03\n",
    "x_c = 0.02\n",
    "x_d = 0.06"
   ]
  },
  {
   "cell_type": "code",
   "execution_count": 4,
   "metadata": {},
   "outputs": [
    {
     "data": {
      "text/plain": [
       "0.03559999999999999"
      ]
     },
     "execution_count": 4,
     "metadata": {},
     "output_type": "execute_result"
    }
   ],
   "source": [
    "P = (b*x_b+c*x_c+d*x_d)/a\n",
    "P"
   ]
  },
  {
   "cell_type": "code",
   "execution_count": 12,
   "metadata": {},
   "outputs": [
    {
     "data": {
      "text/plain": [
       "0.0356"
      ]
     },
     "execution_count": 12,
     "metadata": {},
     "output_type": "execute_result"
    }
   ],
   "source": [
    "round(P,4)"
   ]
  },
  {
   "cell_type": "markdown",
   "metadata": {},
   "source": [
    "### Task 2 / Задание 2\n",
    "\n",
    "There is a company with programmers. It has three times more people writing in Java than in C++. There are four times as many programmers in C++ as in Python. The probability of doing the work in one day is 0.85 for Java programmer, 0.8 for C++ programmer and 0.9 for Python programmer. Find a probability that the programmer chosen at random will do the job in one day. Round the answer to 100. Use a point as a decimal separator.\n",
    "\n",
    "/\n",
    "\n",
    "Есть компания с программистами. В ней на языке Java пишут в 3 раза больше человек, чем на языке C++. Программистов на языке C++ в 4 раза больше, чем на Python. Вероятность сделать работу за один день для Java-программиста — 0,85, для программиста на языке C++ 0,9, а для Python программиста 0,8. Найти вероятность того, что программист, выбранный наугад, сделает работу за один день. Ответ округлите до сотых. В качестве десятичного разделителя используйте точку."
   ]
  },
  {
   "cell_type": "code",
   "execution_count": 9,
   "metadata": {},
   "outputs": [],
   "source": [
    "J = 12\n",
    "C = 4\n",
    "P=1"
   ]
  },
  {
   "cell_type": "code",
   "execution_count": 10,
   "metadata": {},
   "outputs": [],
   "source": [
    "J_=0.85\n",
    "C_=0.9\n",
    "P_=0.8"
   ]
  },
  {
   "cell_type": "code",
   "execution_count": 11,
   "metadata": {},
   "outputs": [
    {
     "data": {
      "text/plain": [
       "0.86"
      ]
     },
     "execution_count": 11,
     "metadata": {},
     "output_type": "execute_result"
    }
   ],
   "source": [
    "answer = (J*J_+C*C_+P*P_)/(J+C+P)\n",
    "round(answer,2)"
   ]
  },
  {
   "cell_type": "markdown",
   "metadata": {},
   "source": [
    "### Task 3 / Задание 3\n",
    "\n",
    "Of the 40 snipers, 18 have a probability of 0.9, 8 have a probability of 0.4 and 14 have a probability of 0.7. A randomly selected sniper fired a shot, hitting the target. We want to figure out which group of snipers most likely fired the shot. \n",
    "\n",
    "In response, write the highest probability rounded to thousandth. Use a point as separator.\n",
    "\n",
    "/\n",
    "\n",
    "Из 40 снайперов 18 попадает в цель с вероятностью 0,9, 8 — с вероятностью 0,4 и 14 – с вероятностью 0,7. Случайно выбранный снайпер произвел выстрел, поразив цель. Мы хотим вычислить, снайпер из какой группы наиболее вероятно совершил этот выстрел. \n",
    "\n",
    "В ответ запишите наибольшую вероятность, округленную до тысячных. В качестве разделителя используйте точку."
   ]
  },
  {
   "cell_type": "code",
   "execution_count": 23,
   "metadata": {},
   "outputs": [],
   "source": [
    "a = 40\n",
    "b = 18\n",
    "c = 8\n",
    "d = 14"
   ]
  },
  {
   "cell_type": "code",
   "execution_count": 24,
   "metadata": {},
   "outputs": [
    {
     "data": {
      "text/plain": [
       "40"
      ]
     },
     "execution_count": 24,
     "metadata": {},
     "output_type": "execute_result"
    }
   ],
   "source": [
    "b+c+d"
   ]
  },
  {
   "cell_type": "code",
   "execution_count": 25,
   "metadata": {},
   "outputs": [],
   "source": [
    "x_b = 0.9\n",
    "x_c = 0.4\n",
    "x_d = 0.7"
   ]
  },
  {
   "cell_type": "code",
   "execution_count": 29,
   "metadata": {},
   "outputs": [
    {
     "data": {
      "text/plain": [
       "0.555"
      ]
     },
     "execution_count": 29,
     "metadata": {},
     "output_type": "execute_result"
    }
   ],
   "source": [
    "BB = b*x_b/(b*x_b+c*x_c+d*x_d)\n",
    "round(BB,3)"
   ]
  },
  {
   "cell_type": "code",
   "execution_count": 30,
   "metadata": {},
   "outputs": [
    {
     "data": {
      "text/plain": [
       "0.11"
      ]
     },
     "execution_count": 30,
     "metadata": {},
     "output_type": "execute_result"
    }
   ],
   "source": [
    "CC = c*x_c/(b*x_b+c*x_c+d*x_d)\n",
    "round(CC,3)"
   ]
  },
  {
   "cell_type": "code",
   "execution_count": 31,
   "metadata": {},
   "outputs": [
    {
     "data": {
      "text/plain": [
       "0.336"
      ]
     },
     "execution_count": 31,
     "metadata": {},
     "output_type": "execute_result"
    }
   ],
   "source": [
    "DD = d*x_d/(b*x_b+c*x_c+d*x_d)\n",
    "round(DD,3)"
   ]
  },
  {
   "cell_type": "markdown",
   "metadata": {},
   "source": [
    "### Task 4 / Задание 4\n",
    "\n",
    "There are four dice cubes. Three of them are painted white with half of their faces, and the fourth cube has only one face of six white. At random the selected cube is thrown seven times. Find a probability that a fourth cube has been chosen, if at seven flips the white edge has fallen exactly once.  The answer is rounded to one thousandth. Use a point as a decimal separator.\n",
    "\n",
    "/\n",
    "\n",
    "Есть 4 кубика. На трех из них окрашена белым половина граней, а на четвертом кубике всего одна грань из шести белая. Наудачу выбранный кубик подбрасывается семь раз. Найти вероятность того, что был выбран четвертый кубик, если при семи подбрасываниях белая грань выпала ровно один раз.  Ответ округлите до тысячных. Используйте точку в качестве десятичного разделителя."
   ]
  },
  {
   "cell_type": "code",
   "execution_count": 46,
   "metadata": {},
   "outputs": [],
   "source": [
    "a = 3/6\n",
    "b = 3/6\n",
    "c = 3/6\n",
    "d = 1/6"
   ]
  },
  {
   "cell_type": "code",
   "execution_count": 43,
   "metadata": {},
   "outputs": [
    {
     "data": {
      "text/plain": [
       "0.0546875"
      ]
     },
     "execution_count": 43,
     "metadata": {},
     "output_type": "execute_result"
    }
   ],
   "source": [
    "# вероятность выкинуть 1 белую из 7 бросков кубика с 3-мя белыми гранями\n",
    "tri=7*(3/6)**1*(3/6)**6\n",
    "tri"
   ]
  },
  {
   "cell_type": "code",
   "execution_count": 45,
   "metadata": {},
   "outputs": [
    {
     "data": {
      "text/plain": [
       "0.39071430612711483"
      ]
     },
     "execution_count": 45,
     "metadata": {},
     "output_type": "execute_result"
    }
   ],
   "source": [
    "# вероятность выкинуть 1 белую из 7 бросков кубика с 1-й белой гранью\n",
    "odna = 7*(1/6)**1*(5/6)**6\n",
    "odna"
   ]
  },
  {
   "cell_type": "code",
   "execution_count": 48,
   "metadata": {},
   "outputs": [
    {
     "data": {
      "text/plain": [
       "0.704"
      ]
     },
     "execution_count": 48,
     "metadata": {},
     "output_type": "execute_result"
    }
   ],
   "source": [
    "answer = (odna*(1/4))/(odna*(1/4)+tri*(3/4))\n",
    "round(answer,3)"
   ]
  },
  {
   "cell_type": "markdown",
   "metadata": {},
   "source": [
    "### Task 5 / Задание 5\n",
    "\n",
    "\n",
    "There are 12 scripts written by analyst 1, 20 scripts written by analyst 2 and 18 scripts written by analyst 3. The probability that a script written by analyst 1 works without errors is 0.9; for scripts written by analysts 2 and 3, these probabilities are 0.6 and 0.9 respectively.\n",
    "\n",
    "You need to find the probability that a random script will work correctly. In response, write down a number that is rounded to 100s. Use a point as a decimal separator.\n",
    "\n",
    "/\n",
    "\n",
    "На гитхабе лежит 12 скриптов, написанных аналитиком №1, 20 скриптов — написанных аналитиком №2 и 18 скриптов — написанных аналитиком №3. Вероятность того, что скрипт, написанный аналитиком №1, работает  без ошибок, равна 0,9; для скриптов, написанных аналитиками  №2 и №3, эти вероятности соответственно равны 0,6 и 0,9.\n",
    "\n",
    "Нужно найти вероятность того, что случайно взятый скрипт будет работать без ошибок. В ответ запишите число, округленное до сотых. В качестве десятичного разделителя используйте точку."
   ]
  },
  {
   "cell_type": "code",
   "execution_count": 50,
   "metadata": {},
   "outputs": [],
   "source": [
    "a = b+c+d\n",
    "b = 12\n",
    "c = 20\n",
    "d = 18\n",
    "x_b = 0.9\n",
    "x_c = 0.6\n",
    "x_d = 0.9"
   ]
  },
  {
   "cell_type": "code",
   "execution_count": 51,
   "metadata": {},
   "outputs": [
    {
     "data": {
      "text/plain": [
       "0.78"
      ]
     },
     "execution_count": 51,
     "metadata": {},
     "output_type": "execute_result"
    }
   ],
   "source": [
    "P = (b*x_b+c*x_c+d*x_d)/a\n",
    "P"
   ]
  },
  {
   "cell_type": "markdown",
   "metadata": {},
   "source": [
    "### Task 6 / Задание 6\n",
    "\n",
    "It is known that about 60% of all people in the city have A. To determine whether a person is sick or not, a 99% test is performed. You get a positive test, what are the chances of you being really sick?\n",
    "\n",
    "/\n",
    "\n",
    "Известно, что около 60% всех людей в городе болеют заболеванием А. Для определения того, заболел человек или нет, проводится тест, точность которого составляет 99%. Вы получили положительный тест, какова вероятность того, что вы реально больны?"
   ]
  },
  {
   "cell_type": "code",
   "execution_count": 57,
   "metadata": {},
   "outputs": [
    {
     "data": {
      "text/plain": [
       "0.9933110367892977"
      ]
     },
     "execution_count": 57,
     "metadata": {},
     "output_type": "execute_result"
    }
   ],
   "source": [
    "P = 0.6*0.99/(0.6*0.99+0.4*0.01)\n",
    "P"
   ]
  },
  {
   "cell_type": "markdown",
   "metadata": {},
   "source": [
    "### Task 7 / Задание 7\n",
    "\n",
    "Three factories produce light bulbs. Factory A produces 20% of all bulbs, 50% of bulbs are produced in Factory B and the remaining 30% in Factory C. 2% of bulbs produced in Factory A, 1% of bulbs produced in Factory B and 3% of bulbs produced in Factory C, In the market, a light bulb is randomly selected and found to be defective. What is the probability that this light bulb was produced at Plant B?\n",
    "\n",
    "The answer is rounded to thousandth, use the dot as divider.\n",
    "\n",
    "/\n",
    "\n",
    "Три фабрики производят лампочки. Фабрика А производит 20% всех лампочек, 50% лампочек производится на фабрике В и оставшиеся 30% на фабрике С. 2% лампочек, произведенных на фабрике А, 1% лампочек, произведенных на фабрике В, и 3% лампочек, произведенных на фабрике С, являются бракованными.На рынке наугад выбирается лампочка и оказывается бракованной. Какова вероятность того, что эта лампочка была произведена на заводе B?\n",
    "\n",
    "Ответ округлите до тысячных, в качестве разделителя  используйте точку."
   ]
  },
  {
   "cell_type": "code",
   "execution_count": 58,
   "metadata": {},
   "outputs": [],
   "source": [
    "a = b+c+d\n",
    "b = 0.2\n",
    "c = 0.5\n",
    "d = 0.3\n",
    "x_b = 0.02\n",
    "x_c = 0.01\n",
    "x_d = 0.03"
   ]
  },
  {
   "cell_type": "code",
   "execution_count": 63,
   "metadata": {},
   "outputs": [
    {
     "data": {
      "text/plain": [
       "0.278"
      ]
     },
     "execution_count": 63,
     "metadata": {},
     "output_type": "execute_result"
    }
   ],
   "source": [
    "P = c*x_c/(b*x_b+c*x_c+d*x_d)\n",
    "round(P,3)"
   ]
  },
  {
   "cell_type": "markdown",
   "metadata": {},
   "source": [
    "### Task 8 / Задание 8\n",
    "\n",
    "Radar (radar) can detect the presence of an aircraft in 98 per cent of cases. However, if there is no aircraft in the radar area, the system still reports (falsely) that the aircraft is present, in 5% of cases. At any given time, the probability of an aircraft being within radar range is 7%. What are the chances that the plane is in radar range, given that there’s no aircraft on the radar?\n",
    "\n",
    "The answer is rounded to ten thousandth, use a point as a decimal separator.\n",
    "\n",
    "/\n",
    "\n",
    "Система РЛС (радиолокационная система) может обнаружить присутствие самолета в 98% случаев. Однако если в зоне действия радара нет самолета, система все равно сообщает (ложно), что самолет присутствует, в 5% случаев. В любой момент времени вероятность того, что самолет находится в зоне действия радара, составляет 7%.Какова вероятность того, что самолет находится в зоне действия радара, учитывая, что на радаре нет самолета?\n",
    "\n",
    "Ответ округлите до десятитысячных, в качестве десятичного разделителя используйте точку."
   ]
  },
  {
   "cell_type": "code",
   "execution_count": 66,
   "metadata": {},
   "outputs": [
    {
     "data": {
      "text/plain": [
       "0.0016"
      ]
     },
     "execution_count": 66,
     "metadata": {},
     "output_type": "execute_result"
    }
   ],
   "source": [
    "P =(1-0.98)*0.07/((1-0.98)*0.07+(1-0.05)*(1-0.07))\n",
    "round(P,4)"
   ]
  },
  {
   "cell_type": "markdown",
   "metadata": {},
   "source": [
    "### Task 9 / Задание 9\n",
    "\n",
    "Radar (radar) can detect the presence of an aircraft in 98 per cent of cases. However, if there is no aircraft in the radar area, the system still reports (falsely) that the aircraft is present, in 5% of cases. At any given time, the probability of an aircraft being within radar range is 7%. What are the chances of the plane being within radar range, given that the radar shows an airplane?\n",
    "\n",
    "The answer is rounded to thousandth, use a point as a decimal separator.\n",
    "\n",
    "/\n",
    "\n",
    "Система РЛС (радиолокационная система) может обнаружить присутствие самолета в 98% случаев. Однако если в зоне действия радара нет самолета, система все равно сообщает (ложно), что самолет присутствует, в 5% случаев. В любой момент времени вероятность того, что самолет находится в зоне действия радара, составляет 7%.Какова вероятность того, что самолет находится в зоне действия радара, учитывая, что радар показывает наличие самолета?\n",
    "\n",
    "Ответ округлите до тысячных, в качестве десятичного разделителя используйте точку."
   ]
  },
  {
   "cell_type": "code",
   "execution_count": 67,
   "metadata": {},
   "outputs": [
    {
     "data": {
      "text/plain": [
       "0.596"
      ]
     },
     "execution_count": 67,
     "metadata": {},
     "output_type": "execute_result"
    }
   ],
   "source": [
    "P =(0.98)*0.07/((0.98)*0.07+(0.05)*(1-0.07))\n",
    "round(P,3)"
   ]
  },
  {
   "cell_type": "markdown",
   "metadata": {},
   "source": [
    "### Task 10 / Задание 10\n",
    "\n",
    "The Aircraft Emergency Locator Transmitter (ELT) is a device designed to transmit a signal in the event of an accident. Company A produces 80% of all ELT in the market, company B produces 15% and company C produces the remaining 5%. The level of defects of ELT produced by A is 4%, by B 6%, and by C 9%. The randomly selected ELT was tested and found to be defective. Find the possibility that it was produced by A.\n",
    "\n",
    "Round the answer to thousandth, use a point as decimal separator.\n",
    "\n",
    "/\n",
    "\n",
    "Передатчик аварийного локатора самолета (ELT) - это устройство, предназначенное для передачи сигнала в случае аварии. Компания A производит 80% всех ELT на рынке, компания B - 15%, а компания C - остальные 5%. Уровень дефектности ELT, произведенных компанией A, составляет 4%, компанией B - 6%, а компанией C - 9%. Случайно выбранный ELT был протестирован и оказался бракованным. Найдите вероятность того, что он был произведен компанией A.\n",
    "\n",
    "Округлите ответ до тысячных, в качестве десятичного разделителя используйте точку."
   ]
  },
  {
   "cell_type": "code",
   "execution_count": 68,
   "metadata": {},
   "outputs": [],
   "source": [
    "a = b+c+d\n",
    "b = 0.8\n",
    "c = 0.15\n",
    "d = 0.05\n",
    "x_b = 0.04\n",
    "x_c = 0.06\n",
    "x_d = 0.09"
   ]
  },
  {
   "cell_type": "code",
   "execution_count": 69,
   "metadata": {
    "scrolled": true
   },
   "outputs": [
    {
     "data": {
      "text/plain": [
       "0.703"
      ]
     },
     "execution_count": 69,
     "metadata": {},
     "output_type": "execute_result"
    }
   ],
   "source": [
    "P = b*x_b/(b*x_b+c*x_c+d*x_d)\n",
    "round(P,3)"
   ]
  }
 ],
 "metadata": {
  "kernelspec": {
   "display_name": "Python 3",
   "language": "python",
   "name": "python3"
  },
  "language_info": {
   "codemirror_mode": {
    "name": "ipython",
    "version": 3
   },
   "file_extension": ".py",
   "mimetype": "text/x-python",
   "name": "python",
   "nbconvert_exporter": "python",
   "pygments_lexer": "ipython3",
   "version": "3.7.3"
  }
 },
 "nbformat": 4,
 "nbformat_minor": 4
}
